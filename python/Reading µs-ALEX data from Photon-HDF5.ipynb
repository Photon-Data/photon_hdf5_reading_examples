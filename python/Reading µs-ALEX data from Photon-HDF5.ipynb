{
 "cells": [
  {
   "cell_type": "markdown",
   "metadata": {},
   "source": [
    "# Reading µs-ALEX data from Photon-HDF5\n",
    "\n",
    "*In this notebook we show how to read a µs-ALEX  smFRET measurement stored in *\n",
    "*[Photon-HDF5 format](http://photon-hdf5.readthedocs.org/)*\n",
    "*using python and a few common scientific libraries (numpy, **pytables**, matplotlib).*\n",
    "*Specifically, we show how to load timestamps, build an alternation histogram * \n",
    "*and select photons in the donor and acceptor excitation periods.*\n",
    "\n",
    "*For a ns-ALEX example see [Reading ns-ALEX data from Photon-HDF5](Reading ns-ALEX data from Photon-HDF5.ipynb).*"
   ]
  },
  {
   "cell_type": "code",
   "execution_count": 1,
   "metadata": {
    "collapsed": false
   },
   "outputs": [],
   "source": [
    "from __future__ import division, print_function\n",
    "%matplotlib inline\n",
    "import numpy as np\n",
    "import tables\n",
    "import matplotlib.pyplot as plt"
   ]
  },
  {
   "cell_type": "markdown",
   "metadata": {},
   "source": [
    "# 1. Utility functions\n",
    "\n",
    "Here we define an utility function to print HDF5 file contents:"
   ]
  },
  {
   "cell_type": "code",
   "execution_count": 2,
   "metadata": {
    "collapsed": false
   },
   "outputs": [],
   "source": [
    "def print_children(group):\n",
    "    \"\"\"Print all the sub-groups in `group` and leaf-nodes children of `group`.\n",
    "\n",
    "    Parameters:\n",
    "        group (pytables group): the group to be printed.\n",
    "    \"\"\"\n",
    "    for name, value in group._v_children.items():\n",
    "        if isinstance(value, tables.Group):\n",
    "            content = '(Group)'\n",
    "        else:\n",
    "            content = value.read()\n",
    "        print(name)\n",
    "        print('    Content:     %s' % content)\n",
    "        print('    Description: %s\\n' % value._v_title.decode())"
   ]
  },
  {
   "cell_type": "markdown",
   "metadata": {},
   "source": [
    "# 2. Open the data file\n",
    "\n",
    "Let assume we have a Photon-HDF5 file at the following location:"
   ]
  },
  {
   "cell_type": "code",
   "execution_count": 3,
   "metadata": {
    "collapsed": true
   },
   "outputs": [],
   "source": [
    "filename = '../data/0023uLRpitc_NTP_20dT_0.5GndCl.hdf5'"
   ]
  },
  {
   "cell_type": "markdown",
   "metadata": {},
   "source": [
    "We can open the file, as a normal HDF5 file"
   ]
  },
  {
   "cell_type": "code",
   "execution_count": 4,
   "metadata": {
    "collapsed": true
   },
   "outputs": [],
   "source": [
    "h5file = tables.open_file(filename)"
   ]
  },
  {
   "cell_type": "markdown",
   "metadata": {},
   "source": [
    "The object `h5file` is a pytables file reference. The root group is accessed with `h5file.root`."
   ]
  },
  {
   "cell_type": "markdown",
   "metadata": {},
   "source": [
    "# 3. Print the content\n",
    "\n",
    "Let's start by taking a look at the file content:"
   ]
  },
  {
   "cell_type": "code",
   "execution_count": 5,
   "metadata": {
    "collapsed": false
   },
   "outputs": [
    {
     "name": "stdout",
     "output_type": "stream",
     "text": [
      "acquisition_duration\n",
      "    Content:     600.0\n",
      "    Description: Measurement duration in seconds.\n",
      "\n",
      "description\n",
      "    Content:     us-ALEX measurement of a doubly-labeled ssDNA sample.\n",
      "    Description: A user-defined comment describing the data file.\n",
      "\n",
      "setup\n",
      "    Content:     (Group)\n",
      "    Description: Information about the experimental setup.\n",
      "\n",
      "provenance\n",
      "    Content:     (Group)\n",
      "    Description: Information about the original data file.\n",
      "\n",
      "sample\n",
      "    Content:     (Group)\n",
      "    Description: Information about the measured sample.\n",
      "\n",
      "photon_data\n",
      "    Content:     (Group)\n",
      "    Description: Group containing arrays of photon-data.\n",
      "\n",
      "identity\n",
      "    Content:     (Group)\n",
      "    Description: Information about the Photon-HDF5 data file.\n",
      "\n"
     ]
    }
   ],
   "source": [
    "print_children(h5file.root)"
   ]
  },
  {
   "cell_type": "markdown",
   "metadata": {},
   "source": [
    "We see the typical Photon-HDF5 structure. In particular the field `description` provides a short description of the measurement and `acquisition_duration` tells that the acquisition lasted 600 seconds.\n",
    "\n",
    "As an example let's take a look at the content of the `sample` group:"
   ]
  },
  {
   "cell_type": "code",
   "execution_count": 6,
   "metadata": {
    "collapsed": false
   },
   "outputs": [
    {
     "name": "stdout",
     "output_type": "stream",
     "text": [
      "dye_names\n",
      "    Content:     Cy3B, ATTO647N\n",
      "    Description: String containing a comma-separated list of dye or fluorophore names.\n",
      "\n",
      "sample_name\n",
      "    Content:     20dt ssDNA oligo doubly labeled with Cy3B and Atto647N\n",
      "    Description: A descriptive name for the sample.\n",
      "\n",
      "num_dyes\n",
      "    Content:     2\n",
      "    Description: Number of different dyes present in the samples.\n",
      "\n",
      "buffer_name\n",
      "    Content:     TE50 + 0.5M GndCl\n",
      "    Description: A descriptive name for the buffer.\n",
      "\n"
     ]
    }
   ],
   "source": [
    "print_children(h5file.root.sample)"
   ]
  },
  {
   "cell_type": "markdown",
   "metadata": {},
   "source": [
    "Let's define a shortcut to the photon_data group to save some typing later:"
   ]
  },
  {
   "cell_type": "code",
   "execution_count": 7,
   "metadata": {
    "collapsed": true
   },
   "outputs": [],
   "source": [
    "photon_data = h5file.root.photon_data"
   ]
  },
  {
   "cell_type": "markdown",
   "metadata": {},
   "source": [
    "# 4. Reading the data"
   ]
  },
  {
   "cell_type": "markdown",
   "metadata": {},
   "source": [
    "First, we make sure the file contains the right type of measurement:"
   ]
  },
  {
   "cell_type": "code",
   "execution_count": 8,
   "metadata": {
    "collapsed": false
   },
   "outputs": [
    {
     "data": {
      "text/plain": [
       "u'smFRET-usALEX'"
      ]
     },
     "execution_count": 8,
     "metadata": {},
     "output_type": "execute_result"
    }
   ],
   "source": [
    "photon_data.measurement_specs.measurement_type.read().decode()"
   ]
  },
  {
   "cell_type": "markdown",
   "metadata": {},
   "source": [
    "Ok, tha's what we espect. \n",
    "\n",
    "Now we can load all the timestamps (including timestamps unit) and detectors arrays:"
   ]
  },
  {
   "cell_type": "code",
   "execution_count": 9,
   "metadata": {
    "collapsed": false
   },
   "outputs": [],
   "source": [
    "timestamps = photon_data.timestamps.read()\n",
    "timestamps_unit = photon_data.timestamps_specs.timestamps_unit.read()\n",
    "detectors = photon_data.detectors.read()"
   ]
  },
  {
   "cell_type": "code",
   "execution_count": 10,
   "metadata": {
    "collapsed": false
   },
   "outputs": [
    {
     "name": "stdout",
     "output_type": "stream",
     "text": [
      "Number of photons: 2683962\n",
      "Timestamps unit:   1.25e-08 seconds\n",
      "Detectors:         [0 1]\n"
     ]
    }
   ],
   "source": [
    "print('Number of photons: %d' % timestamps.size)\n",
    "print('Timestamps unit:   %.2e seconds' % timestamps_unit)\n",
    "print('Detectors:         %s' % np.unique(detectors))"
   ]
  },
  {
   "cell_type": "markdown",
   "metadata": {},
   "source": [
    "We may want to check the excitation wavelengths used in the measurement. This information is found in the setup group:"
   ]
  },
  {
   "cell_type": "code",
   "execution_count": 11,
   "metadata": {
    "collapsed": false
   },
   "outputs": [
    {
     "data": {
      "text/plain": [
       "[5.32e-07, 6.35e-07]"
      ]
     },
     "execution_count": 11,
     "metadata": {},
     "output_type": "execute_result"
    }
   ],
   "source": [
    "h5file.root.setup.excitation_wavelengths.read()"
   ]
  },
  {
   "cell_type": "markdown",
   "metadata": {},
   "source": [
    "Now, let's load the definitions of donor/acceptor channel and excitation periods:"
   ]
  },
  {
   "cell_type": "code",
   "execution_count": 12,
   "metadata": {
    "collapsed": false
   },
   "outputs": [
    {
     "name": "stdout",
     "output_type": "stream",
     "text": [
      "Donor CH: 0     Acceptor CH: 1\n"
     ]
    }
   ],
   "source": [
    "donor_ch = photon_data.measurement_specs.detectors_specs.spectral_ch1.read()\n",
    "acceptor_ch = photon_data.measurement_specs.detectors_specs.spectral_ch2.read()\n",
    "print('Donor CH: %d     Acceptor CH: %d' % (donor_ch, acceptor_ch))"
   ]
  },
  {
   "cell_type": "code",
   "execution_count": 13,
   "metadata": {
    "collapsed": false
   },
   "outputs": [
    {
     "name": "stdout",
     "output_type": "stream",
     "text": [
      "ALEX period:     4000  \n",
      "Offset:          700      \n",
      "Donor period:    [2180, 3900]      \n",
      "Acceptor period: [200, 1800]\n"
     ]
    }
   ],
   "source": [
    "alex_period = photon_data.measurement_specs.alex_period.read()\n",
    "offset = photon_data.measurement_specs.alex_offset.read()\n",
    "donor_period = photon_data.measurement_specs.alex_excitation_period1.read()\n",
    "acceptor_period = photon_data.measurement_specs.alex_excitation_period2.read()\n",
    "print('ALEX period:     %d  \\nOffset:         %4d      \\nDonor period:    %s      \\nAcceptor period: %s' % \\\n",
    "      (alex_period, offset, donor_period, acceptor_period))"
   ]
  },
  {
   "cell_type": "markdown",
   "metadata": {},
   "source": [
    "These numbers define the donor and acceptor alternation periods as shown below:\n",
    "\n",
    "$$2180 < \\widetilde{t} < 3900 \\qquad \\textrm{donor period}$$\n",
    "\n",
    "$$200 < \\widetilde{t} < 1800 \\qquad \\textrm{acceptor period}$$\n",
    "\n",
    "where $\\widetilde{t}$ represent the (`timestamps` - `offset`) **MODULO** `alex_period`.\n",
    "\n",
    "For more information\n",
    "please refer to the [measurements_specs section](http://photon-hdf5.readthedocs.org/en/latest/phdata.html#measurement-specs)\n",
    "of the *Reference Documentation*."
   ]
  },
  {
   "cell_type": "markdown",
   "metadata": {},
   "source": [
    "#5. Plotting the alternation histogram\n",
    "\n",
    "Let start by separating timestamps from donor and acceptor channels:"
   ]
  },
  {
   "cell_type": "code",
   "execution_count": 14,
   "metadata": {
    "collapsed": true
   },
   "outputs": [],
   "source": [
    "timestamps_donor = timestamps[detectors == donor_ch]\n",
    "timestamps_acceptor = timestamps[detectors == acceptor_ch]"
   ]
  },
  {
   "cell_type": "markdown",
   "metadata": {},
   "source": [
    "Now that the data has been loaded we can plot an alternation histogram using *matplotlib*:"
   ]
  },
  {
   "cell_type": "code",
   "execution_count": 15,
   "metadata": {
    "collapsed": false
   },
   "outputs": [
    {
     "data": {
      "image/png": "[encoded data removed]",
      "text/plain": [
       "<matplotlib.figure.Figure at 0x106b68e50>"
      ]
     },
     "metadata": {},
     "output_type": "display_data"
    }
   ],
   "source": [
    "fig, ax = plt.subplots()\n",
    "ax.hist((timestamps_acceptor - offset) % alex_period, bins=100, alpha=0.8, color='red', label='donor')\n",
    "ax.hist((timestamps_donor - offset) % alex_period, bins=100, alpha=0.8, color='green', label='acceptor')\n",
    "ax.axvspan(donor_period[0], donor_period[1], alpha=0.3, color='green')\n",
    "ax.axvspan(acceptor_period[0], acceptor_period[1], alpha=0.3, color='red')\n",
    "ax.set_xlabel('(timestamps - offset) MOD alex_period')\n",
    "ax.set_title('ALEX histogram')\n",
    "ax.legend(loc='center left', bbox_to_anchor=(1, 0.5), frameon=False);"
   ]
  },
  {
   "cell_type": "markdown",
   "metadata": {},
   "source": [
    "# 6. Timestamps in different excitation periods\n",
    "\n",
    "We conclude by showing, as an example, how to create arrays of timestamps containing only donor or acceptor exitation photons.\n"
   ]
  },
  {
   "cell_type": "code",
   "execution_count": 16,
   "metadata": {
    "collapsed": false
   },
   "outputs": [],
   "source": [
    "timestamps_mod = (timestamps - offset) % alex_period\n",
    "donor_excitation = (timestamps_mod < donor_period[1])*(timestamps_mod > donor_period[0])\n",
    "acceptor_excitation = (timestamps_mod < acceptor_period[1])*(timestamps_mod > acceptor_period[0])\n",
    "timestamps_Dex = timestamps[donor_excitation]\n",
    "timestamps_Aex = timestamps[acceptor_excitation]"
   ]
  },
  {
   "cell_type": "code",
   "execution_count": 17,
   "metadata": {
    "collapsed": false
   },
   "outputs": [
    {
     "data": {
      "image/png": "[encoded data removed]",
      "text/plain": [
       "<matplotlib.figure.Figure at 0x106b68a10>"
      ]
     },
     "metadata": {},
     "output_type": "display_data"
    }
   ],
   "source": [
    "fig, ax = plt.subplots()\n",
    "ax.hist((timestamps_Dex - offset) % alex_period, bins=np.arange(0, alex_period, 40), alpha=0.8, color='green', label='D_ex')\n",
    "ax.hist((timestamps_Aex - offset) % alex_period, bins=np.arange(0, alex_period, 40), alpha=0.8, color='red', label='A_ex')\n",
    "ax.set_xlabel('(timestamps - offset) MOD alex_period')\n",
    "ax.set_title('ALEX histogram (selected periods only)')\n",
    "ax.legend(loc='center left', bbox_to_anchor=(1, 0.5), frameon=False);"
   ]
  },
  {
   "cell_type": "code",
   "execution_count": 18,
   "metadata": {
    "collapsed": true
   },
   "outputs": [],
   "source": [
    "#plt.close('all')"
   ]
  },
  {
   "cell_type": "code",
   "execution_count": null,
   "metadata": {
    "collapsed": true
   },
   "outputs": [],
   "source": []
  }
 ],
 "metadata": {
  "kernelspec": {
   "display_name": "Python 2",
   "language": "python",
   "name": "python2"
  },
  "language_info": {
   "codemirror_mode": {
    "name": "ipython",
    "version": 2
   },
   "file_extension": ".py",
   "mimetype": "text/x-python",
   "name": "python",
   "nbconvert_exporter": "python",
   "pygments_lexer": "ipython2",
   "version": "2.7.10"
  }
 },
 "nbformat": 4,
 "nbformat_minor": 0
}
